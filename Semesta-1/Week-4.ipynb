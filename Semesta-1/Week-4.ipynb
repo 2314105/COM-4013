{
 "cells": [
  {
   "cell_type": "markdown",
   "metadata": {},
   "source": [
    "# COM4013 – Introduction to Software Development\n",
    "# Week 4 – More Loops, User Input Validation\n"
   ]
  },
  {
   "cell_type": "markdown",
   "metadata": {},
   "source": [
    "#### Calculator\n",
    "Create a new cell in Jupyter Notebook (use the shell code).\n",
    "\n",
    "This exercise tests your ability to work with a program as it becomes complex. It is easy to make small mistakes when copying earlier work. Tips:\n",
    "- Be careful with variable names. \n",
    "- Comment sections of code, you can put lots of blank lines between parts if you like\n",
    "- Try not to get confused as the program becomes longer and more complicated!\n",
    "\n",
    "- Copy this code into the shell code. It's an example of adding two numbers together.\n",
    "\n",
    "while (True):\n",
    "userNum1 = float(input(\"Enter first number: \"))   \n",
    "userNum2 = float(input(\"Enter second number: \"))\n",
    "\n",
    "userTotal = userNum1 + userNum2\n",
    "print(f\"{userNum1} + {userNum2} = {userTotal}\")\n",
    "\n",
    "yesNo = input(\"Do you want another go (y/n): \")\n",
    "\n",
    "if (yesNo == 'n'):\n",
    "break\n",
    "\n",
    "- Add comments to this code – I suspect MOST of you will not take the time to do this…\n",
    "- Add user input validation to the program (read the two points below before beginning).\n",
    "- The numbers that are input must be checked with try-except, but can be in any range. Again reuse the appropriate parts of the earlier solution.\n",
    "- The yes/no user input is almost identical to the earlier exercise, but I would like for you to use a regular while loop to do this. Be careful, as you may find that you are no able to escape from the loop.\n",
    "- Apply the .lower() function to your yesNo input variable.\n",
    "- Use a break statement to do this.\n",
    "\n",
    "\n",
    "- At the start of the program, ask the user what operation they want to perform:\n",
    "- Which operation do you want + or - ?\n",
    "- Validate their input (a string containing \"+\" or \"-\") – use a simple while loop here.\n",
    "- Update the calculation and answer display to use the user's choice of operator.\n",
    "\n",
    "- As an extra challenge, modify the code to also allow for multiplication and division.\n"
   ]
  },
  {
   "cell_type": "code",
   "execution_count": null,
   "metadata": {},
   "outputs": [],
   "source": []
  },
  {
   "cell_type": "markdown",
   "metadata": {},
   "source": [
    "\n",
    "#### Calendar Program - Prototype\n",
    "Now we will make a program to display a calendar of a given year. This has some very tricky parts, so we start with a prototype (a simple test version). \n",
    "\n",
    "We will need to know the number of days in a particular month / year. The Python calendar library contains a method to get this, so we don't have to program this part ourselves. The following code returns the number of days in October (month 10) of 2011, the result 31 will be put into the numberDays variable:\n",
    "\n",
    "import calendar\n",
    "numberDays = calendar.monthrange(2011, 10)[1] # Year and month\n",
    "print(numberDays)\n",
    "\n",
    "\n",
    "- Create a new cell in Jupyter Notebook (use the shell code).\n",
    "- Copy and run the code to see that it works.\n",
    "  - Calendar is a part of the Python standard library so you do not need to conda/pip install the\n",
    "  - library.\n",
    "\n",
    "\n",
    " Create a new cell in Jupyter Notebook (use the shell code).\n",
    " Ask the user for a year. Validate that the year is a number and in the range 1 to 9999. Repeatedly ask the user until they enter a valid value.\n",
    "\n",
    "Enter a year: t\n",
    "Sorry, please enter a valid year.\n",
    "\n",
    "Enter a year: 10000\n",
    "Sorry, please enter a valid year between 1 and 9999.\n",
    "\n",
    "\tUse a 'for' loop to display for each month, the month number and the number of days in the month:\n",
    "Enter a year: 2011\n",
    "Month 1\n",
    "31 days\n",
    "\n",
    "Month 2\n",
    "28 days\n",
    "...\n"
   ]
  },
  {
   "cell_type": "code",
   "execution_count": null,
   "metadata": {},
   "outputs": [],
   "source": []
  },
  {
   "cell_type": "markdown",
   "metadata": {},
   "source": [
    "#### Names for Months and Days\n",
    "We want to show the month and day as names rather than numbers. We could do this with lots of 'if' statements, but we'll use the Python libraries again to save us that work. \n",
    "- datetime is also a part of the Python standard library so you do not need to conda/pip install the library.\n",
    "\n",
    "This is how to get the text name of the month and day from a given date (assuming you have set up the year, month and day variables):\n",
    "\n",
    "from datetime import datetime\n",
    "\n",
    "year = 2023\n",
    "month = 10\n",
    "day = 15     # This can be any day\n",
    "\n",
    "- Always using day = 1 when getting month name\n",
    "monthName = datetime(2023, 10, 1).strftime(\"%B\")\n",
    "\n",
    "- Short day name (e.g. Mon Tue Wed)\n",
    "shortDayName = datetime (year, month, day).strftime(\"%a\")\n",
    "\n",
    "- Full day name (e.g. Monday Tuesday Wednesday)\n",
    "dayName = datetime (year, month, day).strftime(\"%A\")\n",
    "\n",
    "print(f\"Month Name:     { monthName }\")\n",
    "print(f\"Short Day Name: { shortDayName }\")\n",
    "print(f\"Full Day Name:  { dayName }\")\n",
    "\n",
    "- Output\n",
    "- Month Name: October\n",
    "- Short Day Name: Sun\n",
    "- Full Day Name: Sunday\n",
    "\n",
    "- a new cell in Jupyter Notebook (use the shell code) and copy the month for loop that you created before.\n",
    "- Within the month 'for' loop create another 'for' loop that count through the days in that month. You have already found the number of days, so you have the value that this new 'for' loop should count up to. \n",
    "- Remember: For loop range ends are exclusive so you do need to account for this.\n",
    "-For each day, display its name and number. Use simple and sensible variable names as you build up this program.\n",
    "\n",
    "The output required is this, follow it carefully:\n",
    "- Enter a year: 2011\n",
    "- January\n",
    "- Sat 1, Sun 2, Mon 3, Tue 4, ...\n",
    "\n",
    "- February\n",
    "- Tue 1, Wed 2, ...\n"
   ]
  },
  {
   "cell_type": "code",
   "execution_count": null,
   "metadata": {},
   "outputs": [],
   "source": []
  },
  {
   "cell_type": "markdown",
   "metadata": {},
   "source": [
    "#### Find the day of the week you were born...\n",
    "- Ask for the day, month, and year of birth\n",
    "- Validate the inputs – whichever way you’d like\n",
    "-Print their day of birth (Monday, Tuesday, etc.). I’ve give you the code to retrieve this using the year, month, and day variables.\n",
    "\n",
    "- You were born on a Tuesday\n"
   ]
  },
  {
   "cell_type": "code",
   "execution_count": null,
   "metadata": {},
   "outputs": [],
   "source": []
  }
 ],
 "metadata": {
  "language_info": {
   "name": "python"
  }
 },
 "nbformat": 4,
 "nbformat_minor": 2
}
