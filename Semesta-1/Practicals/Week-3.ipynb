{
 "cells": [
  {
   "cell_type": "code",
   "execution_count": 1,
   "metadata": {},
   "outputs": [
    {
     "name": "stdout",
     "output_type": "stream",
     "text": [
      "Now add 1...\n",
      "You now have 11... \n",
      "Double it...\n",
      "You now have 22... \n",
      "Now add 4...\n",
      "You now have 26... \n",
      "Now divide by 2...\n",
      "You now have 13.0... \n",
      "Now take away the number you first thought of...\n",
      "You now have three : 3.0\n"
     ]
    }
   ],
   "source": [
    "def main():\n",
    "\n",
    "  #initialise variables\n",
    "  userNumber = 0\n",
    "  startNumber = 0\n",
    "  \n",
    "  #prompt user for a number\n",
    "  userNumber = int(input(\"Enter a number, any number: \")) \n",
    "  startNumber = userNumber \n",
    "  \n",
    "  #perform the magic trick\n",
    "  print(\"Now add 1...\") \n",
    "  userNumber += 1 \n",
    "  print(f\"You now have { userNumber }... \") \n",
    "  \n",
    "  print(\"Double it...\") \n",
    "  userNumber *= 2 \n",
    "  print(f\"You now have { userNumber }... \") \n",
    "  \n",
    "  print(\"Now add 4...\") \n",
    "  userNumber += 4 \n",
    "  print(f\"You now have { userNumber }... \") \n",
    "  \n",
    "  print(\"Now divide by 2...\") \n",
    "  userNumber /= 2 \n",
    "  print(f\"You now have { userNumber }... \") \n",
    "  \n",
    "  print(\"Now take away the number you first thought of...\") \n",
    "  userNumber -= startNumber \n",
    "  print(f\"You now have three : { userNumber }\") \n",
    "  \n",
    "if __name__ == \"__main__\":\n",
    "  main()"
   ]
  },
  {
   "cell_type": "code",
   "execution_count": 2,
   "metadata": {},
   "outputs": [
    {
     "name": "stdout",
     "output_type": "stream",
     "text": [
      "You are a young adult\n"
     ]
    }
   ],
   "source": [
    "def main():\n",
    "  \n",
    "  #initialise variables\n",
    "  age = 0\n",
    "  \n",
    "  # Get user input\n",
    "  age = int(input( \"Enter your age: \" ))\n",
    " \n",
    "  # Determine the age group\n",
    "  if (age >= 0 and age <= 12): \n",
    "      print(\"You are a child\")\n",
    "  elif (age >= 13 and age <= 17):\n",
    "      print(\"You are a teenager\")\n",
    "  elif (age >= 18 and age <= 29):\n",
    "      print(\"You are a young adult\")\n",
    "  elif (age >= 30 and age <= 64):\n",
    "      print(\"You are an adult\")\n",
    "  elif (age >= 65):\n",
    "      print(\"You are an elder\")\n",
    "  else:\n",
    "      print(\"Invalid age\")\n",
    "\n",
    "if __name__ == \"__main__\":\n",
    "  main()"
   ]
  },
  {
   "cell_type": "code",
   "execution_count": 7,
   "metadata": {},
   "outputs": [
    {
     "name": "stdout",
     "output_type": "stream",
     "text": [
      "1, 2, 3, 4, 5, 6, 7, 8, 9, 10, "
     ]
    }
   ],
   "source": [
    "def main():\n",
    "  \n",
    "  #initialise variables\n",
    "  counter = 1 \n",
    "  \n",
    "  #print numbers 1 to 10\n",
    "  while (counter <= 10): \n",
    "      print(counter, end=\", \")\n",
    "      counter+=1\n",
    "  \n",
    "if __name__ == \"__main__\":\n",
    "  main()"
   ]
  },
  {
   "cell_type": "code",
   "execution_count": 8,
   "metadata": {},
   "outputs": [
    {
     "name": "stdout",
     "output_type": "stream",
     "text": [
      "0, 2, 4, 6, 8, 10, 12, 14, 16, 18, 20, 22, 24, 26, 28, 30, 32, 34, 36, 38, 40, 42, 44, 46, 48, 50, 52, 54, 56, 58, 60, 62, 64, 66, 68, 70, 72, 74, 76, 78, 80, 82, 84, 86, 88, 90, 92, 94, 96, 98, 100, "
     ]
    }
   ],
   "source": [
    "def main():\n",
    "  \n",
    "  #initialise variables\n",
    "  counter = 0 \n",
    "  \n",
    "  #print numbers 0 to 100 in steps of 2\n",
    "  while (counter <= 100): \n",
    "      print(counter, end=\", \")\n",
    "      counter+=2\n",
    "  \n",
    "if __name__ == \"__main__\":\n",
    "  main()"
   ]
  },
  {
   "cell_type": "code",
   "execution_count": 9,
   "metadata": {},
   "outputs": [
    {
     "name": "stdout",
     "output_type": "stream",
     "text": [
      "100, 98, 96, 94, 92, 90, 88, 86, 84, 82, 80, 78, 76, 74, 72, 70, 68, 66, 64, 62, 60, 58, 56, 54, 52, 50, 48, 46, 44, 42, 40, 38, 36, 34, 32, 30, 28, 26, 24, 22, 20, 18, 16, 14, 12, 10, 8, 6, 4, 2, 0, "
     ]
    }
   ],
   "source": [
    "def main():\n",
    "  \n",
    "  #initialise variables\n",
    "  counter = 100\n",
    "  \n",
    "  #print numbers 100 to 0 in steps of -2\n",
    "  while (counter >= 0): \n",
    "      print(counter, end=\", \")\n",
    "      counter-=2\n",
    "  \n",
    "if __name__ == \"__main__\":\n",
    "  main()"
   ]
  }
 ],
 "metadata": {
  "kernelspec": {
   "display_name": "Python 3",
   "language": "python",
   "name": "python3"
  },
  "language_info": {
   "codemirror_mode": {
    "name": "ipython",
    "version": 3
   },
   "file_extension": ".py",
   "mimetype": "text/x-python",
   "name": "python",
   "nbconvert_exporter": "python",
   "pygments_lexer": "ipython3",
   "version": "3.12.0"
  }
 },
 "nbformat": 4,
 "nbformat_minor": 2
}
