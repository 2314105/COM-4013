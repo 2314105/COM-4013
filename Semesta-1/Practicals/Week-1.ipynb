{
 "cells": [
  {
   "cell_type": "markdown",
   "metadata": {},
   "source": [
    "# COM4013 – Introduction to Software Development\n",
    "# Week 1 – Introducing Jupyter Notebook and Simple Programs\n"
   ]
  },
  {
   "cell_type": "markdown",
   "metadata": {},
   "source": [
    "#### Our Basic Shell Code\n",
    "For most of what we will do this basic shell code should suffice. Copy this into the first cell.\n",
    "\n",
    "def main ():\n",
    "\n",
    "if __name__ == \"__main__\":\n",
    "    main ()\n",
    "\n",
    "A Simple Program\n",
    "- Type this statement as a new line under main (it is good practice to use the tab key to indent the code one time – as Python will not accept code unless you properly format your code. \n",
    "\n",
    "print (\"Hello World\");\n",
    "\n",
    "- Click run or Shift+Enter (You should see Hello World in the console area). Your tutor will show you how to do this if you get stuck:\n",
    "\n",
    "- Python is case sensitive. That means capital letters are considered different to lower case letters. When copying program code copy the capitals exactly. When writing your own program code, you must use capitals consistently (e.g., \"Console\" is different to \"console\")\n",
    "\n",
    "- Also notice the semi-colon at the end of the line. In some languages semi-colons are required to separate statements, although they are not needed in Python. Remove the semi-colon after the print statements and run the code again. As you can see it still works. Feel free to use the semicolon if you are used to this (or don’t). I expect you to be consistent though.\n"
   ]
  },
  {
   "cell_type": "code",
   "execution_count": 4,
   "metadata": {},
   "outputs": [
    {
     "name": "stdout",
     "output_type": "stream",
     "text": [
      "Hello World\n"
     ]
    }
   ],
   "source": [
    "def main ():\n",
    "\n",
    "  print (\"Hello World\")\n",
    "\n",
    "if __name__ == \"__main__\":\n",
    "    main ()"
   ]
  },
  {
   "cell_type": "markdown",
   "metadata": {},
   "source": [
    "#### Task 1: Basic Input and Output\n",
    "1.\tCreate a new Python box in your Jupyter Notebook. Use the basic shell code and write your code within the main method.\n",
    "\n",
    "2.\tUse the print statement to display your name on the screen.\n",
    "\n",
    "3.\tImplement the following:\n",
    "- Use the input statement to allow the user to enter their name.\n",
    "- Display the user's name on the screen.\n",
    "- Hint: Look at the slides\n",
    "- Python f-String Tutorial – String Formatting in Python Explained with Code Examples (freecodecamp.org)\n"
   ]
  },
  {
   "cell_type": "code",
   "execution_count": null,
   "metadata": {},
   "outputs": [],
   "source": []
  },
  {
   "cell_type": "markdown",
   "metadata": {},
   "source": [
    "#### Task 2: Working with Strings\n",
    "1.\tCreate a new Python script.\n",
    "2.\tImplement the following:\n",
    "- Prompt the user to enter a sentence.\n",
    "- Calculate and display the number of characters in the sentence.\n",
    "- Hint: Python String Length (w3schools.com)\n",
    "- Advanced task: Use a for loop to count the characters (come back to this)\n",
    "- Display the sentence in both uppercase and lowercase.\n",
    "- Hint: Python String Methods (w3schools.com)\n"
   ]
  },
  {
   "cell_type": "code",
   "execution_count": null,
   "metadata": {},
   "outputs": [],
   "source": []
  },
  {
   "cell_type": "markdown",
   "metadata": {},
   "source": [
    "#### Task 3: Working with Numbers\n",
    "1.\tCreate a new box on Jupyter.\n",
    "2.\tDeclare an integer variable user_height_cm and set it to 0 \n",
    "a.\tWhat happens if you do not initialise a variable with a value?\n",
    "3.\tImplement the following:\n",
    "- Prompt the user to enter their height in centimetres.\n",
    "- Input and convert the height from a string to an integer.\n",
    "- Hint: Python Casting (w3schools.com) \n",
    "- Prompt the user to enter the heights of two neighbours and store them in separate variables (neighbor1_height_cm and neighbor2_height_cm).\n",
    "4.\tCalculate and display the average height of the user and their neighbours in centimetres.\n"
   ]
  },
  {
   "cell_type": "code",
   "execution_count": null,
   "metadata": {},
   "outputs": [],
   "source": []
  },
  {
   "cell_type": "markdown",
   "metadata": {},
   "source": [
    "#### Task 4: More Arithmetic Operations\n",
    "1.\tExpand the previous script to include the following:\n",
    "- Calculate the average height in inches (1 inch = 2.54 cm).\n",
    "- Use a floating-point variable (I use the term floating point to indicate decimal point – it means nothing in Python – just declare a variable) average_height_inches to store the result.\n",
    "- Display the average height in inches with two decimal places.\n"
   ]
  },
  {
   "cell_type": "code",
   "execution_count": null,
   "metadata": {},
   "outputs": [],
   "source": []
  },
  {
   "cell_type": "markdown",
   "metadata": {},
   "source": [
    "#### Task 5: Converting to Feet and Inches (1 foot = 12 inches)\n",
    "1.\tEnhance the script to:\n",
    "- Calculate and display the average height in feet and inches.\n",
    "- Format the output message nicely, e.g., \"5 feet 10 inches.\"\n",
    "2.\tPerform the following conversions:\n",
    "- Conversion from inches to feet and inches:\n",
    "- Calculate the feet: height_feet = average_height_inches // 12.\n",
    "o\t“//” disregards the fractional part of the calculation. This is important when we want to separate and display the feet and inches as whole numbers, ensuring accuracy in our results.\n",
    "- Calculate the remaining inches: remaining_inches = average_height_inches % 12\n"
   ]
  },
  {
   "cell_type": "code",
   "execution_count": null,
   "metadata": {},
   "outputs": [],
   "source": []
  },
  {
   "cell_type": "markdown",
   "metadata": {},
   "source": [
    "#### Task 6: User Input in Feet and Inches\n",
    "1.\tModify the script to accept user input for heights in feet and inches.\n",
    "2.\tImplement the following:\n",
    "- Ask the user for their height in feet and inches separately.\n",
    "- Convert these 3 inputs to inches for averaging:\n",
    "3.\tCalculate the average height in inches (for all three people) and then convert the result back to feet and inches for output.\n"
   ]
  },
  {
   "cell_type": "code",
   "execution_count": null,
   "metadata": {},
   "outputs": [],
   "source": []
  }
 ],
 "metadata": {
  "kernelspec": {
   "display_name": "Python 3",
   "language": "python",
   "name": "python3"
  },
  "language_info": {
   "codemirror_mode": {
    "name": "ipython",
    "version": 3
   },
   "file_extension": ".py",
   "mimetype": "text/x-python",
   "name": "python",
   "nbconvert_exporter": "python",
   "pygments_lexer": "ipython3",
   "version": "3.12.1"
  }
 },
 "nbformat": 4,
 "nbformat_minor": 2
}
