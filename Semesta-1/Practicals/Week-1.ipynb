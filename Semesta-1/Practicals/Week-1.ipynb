{
 "cells": [
  {
   "cell_type": "code",
   "execution_count": 1,
   "metadata": {},
   "outputs": [
    {
     "name": "stdout",
     "output_type": "stream",
     "text": [
      "Hello, World!\n"
     ]
    }
   ],
   "source": [
    "def main (): \n",
    "  # Prints hello world\n",
    "  print (\"Hello, World!\")\n",
    "\n",
    "if __name__ == \"__main__\": \n",
    "    main ()"
   ]
  },
  {
   "cell_type": "code",
   "execution_count": 2,
   "metadata": {},
   "outputs": [
    {
     "name": "stdout",
     "output_type": "stream",
     "text": [
      "Hello,  Joshua white\n"
     ]
    }
   ],
   "source": [
    "def main ():\n",
    "  # Ask the user for their name\n",
    "  userName = input (\"What is your name? \").capitalize ()\n",
    "  print (\"Hello, \", userName)\n",
    "  \n",
    "if __name__ == \"__main__\": \n",
    "    main ()"
   ]
  },
  {
   "cell_type": "code",
   "execution_count": 3,
   "metadata": {},
   "outputs": [
    {
     "name": "stdout",
     "output_type": "stream",
     "text": [
      "The length of the sentence is:  40\n",
      "The sentence in upper case is:  HELLO WORLD ASDASD ASDSASD ASDASD ASASD \n",
      "The sentence in lower case is:  hello world asdasd asdsasd asdasd asasd \n"
     ]
    }
   ],
   "source": [
    "def main (): \n",
    "  # This program will take a sentence and return the length, upper case, and lower case of the sentence.\n",
    "  sentence = input (\"Please enter a sentence: \")\n",
    "  sentenceLength = len(sentence)\n",
    "  sentenceUpper = sentence.upper()\n",
    "  sentenceLower = sentence.lower()\n",
    "  print (\"The length of the sentence is: \", sentenceLength)\n",
    "  print (\"The sentence in upper case is: \", sentenceUpper)\n",
    "  print (\"The sentence in lower case is: \", sentenceLower)\n",
    " \n",
    "if __name__ == \"__main__\": \n",
    "    main ()"
   ]
  },
  {
   "cell_type": "code",
   "execution_count": 4,
   "metadata": {},
   "outputs": [
    {
     "name": "stdout",
     "output_type": "stream",
     "text": [
      "The average height of you and your neighbours is:  184.0 cm\n"
     ]
    }
   ],
   "source": [
    "def main ():\n",
    "  \n",
    "  # This program will take the user's height in cm and the height of two neighbours and return the average height of the three people.\n",
    "  userHeightCm = int(input (\"What is your height in cm? \"))\n",
    "  neighbourHeight1Cm = int(input (\"What is the height of your neighbour in cm? \"))\n",
    "  neighbourHeight2Cm = int(input (\"What is the height of your other neighbour in cm? \"))\n",
    "  averageHeightCm = (userHeightCm + neighbourHeight1Cm + neighbourHeight2Cm) / 3\n",
    "  print (\"The average height of you and your neighbours is: \", averageHeightCm, \"cm\")\n",
    "  \n",
    "if __name__ == \"__main__\": \n",
    "    main ()"
   ]
  },
  {
   "cell_type": "code",
   "execution_count": 5,
   "metadata": {},
   "outputs": [
    {
     "name": "stdout",
     "output_type": "stream",
     "text": [
      "The average height of you and your neighbours is:  66.14 inches\n"
     ]
    }
   ],
   "source": [
    "def main ():\n",
    "  # This program will take the height of the user and their neighbours in cm and convert it to inches and then return the average height in inches.\n",
    "  inchesToCm = 2.54\n",
    "  \n",
    "  userHeightCm = float(input (\"What is your height in cm? \"))\n",
    "  neighbourHeight1Cm = float(input (\"What is the height of your neighbour in cm? \"))\n",
    "  neighbourHeight2Cm = float(input (\"What is the height of your other neighbour in cm? \"))\n",
    "  userHeignthInches = userHeightCm / inchesToCm\n",
    "  neighnourHeight1Inches = neighbourHeight1Cm / inchesToCm\n",
    "  neighbourHeight2Inches = neighbourHeight2Cm / inchesToCm\n",
    "  averageHeightInches = (userHeignthInches + neighnourHeight1Inches + neighbourHeight2Inches) / 3\n",
    "  averageHeightInches = round(averageHeightInches, 2)\n",
    "  print (\"The average height of you and your neighbours is: \", averageHeightInches, \"inches\")\n",
    "  \n",
    "if __name__ == \"__main__\": \n",
    "    main ()"
   ]
  },
  {
   "cell_type": "code",
   "execution_count": 9,
   "metadata": {},
   "outputs": [
    {
     "name": "stdout",
     "output_type": "stream",
     "text": [
      "The average height of you and your neighbours is:  5 feet and 4 inches\n"
     ]
    }
   ],
   "source": [
    "def main ():\n",
    "  # This program will take the height of the user and their neighbours in cm and convert it to inches and then return the average height in feet and inches.\n",
    "  inchesToCm = 2.54\n",
    "  inchesToFeet = 12\n",
    "  \n",
    "  userHeightCm = float(input (\"What is your height in cm? \"))\n",
    "  neighbourHeight1Cm = float(input (\"What is the height of your neighbour in cm? \"))\n",
    "  neighbourHeight2Cm = float(input (\"What is the height of your other neighbour in cm? \"))\n",
    "  \n",
    "  userHeignthInches = userHeightCm / inchesToCm\n",
    "  neighbourHeight1Inches = neighbourHeight1Cm / inchesToCm\n",
    "  neighbourHeight2Inches = neighbourHeight2Cm / inchesToCm\n",
    "  \n",
    "  userHeightFeet = userHeignthInches / inchesToFeet\n",
    "  neighbourHeight1Feet = neighbourHeight1Inches / inchesToFeet\n",
    "  neighbourHeight2Feet = neighbourHeight2Inches / inchesToFeet\n",
    "  \n",
    "  averageHeightFeet = (userHeightFeet + neighbourHeight1Feet + neighbourHeight2Feet) / 3\n",
    "  remainingInches = (userHeightFeet + neighbourHeight1Feet + neighbourHeight2Feet) % inchesToFeet\n",
    "  remainingInches = int(remainingInches)\n",
    "\n",
    "  print (\"The average height of you and your neighbours is: \", int(averageHeightFeet), \"feet and\", remainingInches, \"inches\")\n",
    "  \n",
    "if __name__ == \"__main__\": \n",
    "    main ()"
   ]
  },
  {
   "cell_type": "code",
   "execution_count": 11,
   "metadata": {},
   "outputs": [
    {
     "name": "stdout",
     "output_type": "stream",
     "text": [
      "The average height of you and your neighbours is:  5 feet and 9 inches\n"
     ]
    }
   ],
   "source": [
    "def main():\n",
    "  \n",
    "    feetToInches = 12\n",
    "    # This program will take the height of the user and their neighbours in feet and inches and return the average height in feet and inches.\n",
    "    userHeightFeet = int(input (\"What is your height in feet? \"))\n",
    "    userHeightInches = int(input (\"What is your height in inches? \"))\n",
    "    neighbourHeight1Feet = int(input (\"What is the height of your neighbour in feet? \"))    \n",
    "    neighbourHeight1Inches = int(input (\"What is the height of your neighbour in inches? \"))\n",
    "    neighbourHeight2Feet = int(input (\"What is the height of your other neighbour in feet? \"))\n",
    "    neighbourHeight2Inches = int(input (\"What is the height of your other neighbour in inches? \"))\n",
    "\n",
    "    userHeightInches = (userHeightFeet * feetToInches) + userHeightInches\n",
    "    neighbourHeight1Inches = (neighbourHeight1Feet * feetToInches) + neighbourHeight1Inches\n",
    "    neighbourHeight2Inches = (neighbourHeight2Feet * feetToInches) + neighbourHeight2Inches\n",
    "\n",
    "    averageHeightInches = (userHeightInches + neighbourHeight1Inches + neighbourHeight2Inches) / 3\n",
    "    averageHeightFeet = averageHeightInches // feetToInches\n",
    "    remainingInches = averageHeightInches % feetToInches\n",
    "    remainingInches = int(remainingInches)\n",
    "\n",
    "    print (\"The average height of you and your neighbours is: \", int(averageHeightFeet), \"feet and\", remainingInches, \"inches\")\n",
    "  \n",
    "if __name__ == \"__main__\": \n",
    "    main ()"
   ]
  }
 ],
 "metadata": {
  "kernelspec": {
   "display_name": "Python 3",
   "language": "python",
   "name": "python3"
  },
  "language_info": {
   "codemirror_mode": {
    "name": "ipython",
    "version": 3
   },
   "file_extension": ".py",
   "mimetype": "text/x-python",
   "name": "python",
   "nbconvert_exporter": "python",
   "pygments_lexer": "ipython3",
   "version": "3.12.0"
  }
 },
 "nbformat": 4,
 "nbformat_minor": 2
}
