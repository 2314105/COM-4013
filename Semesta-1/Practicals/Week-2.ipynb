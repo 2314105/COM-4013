{
 "cells": [
  {
   "cell_type": "code",
   "execution_count": 6,
   "metadata": {},
   "outputs": [
    {
     "name": "stdout",
     "output_type": "stream",
     "text": [
      "Tax on the item is 2.0\n",
      "Total item price is 12.0\n",
      "Total taxed price for all items is 24.00\n"
     ]
    }
   ],
   "source": [
    "def main():\n",
    "  # Initialize variables\n",
    "  tax = 0.2\n",
    "  # Get input from user\n",
    "  itemPrice = float(input(\"Enter the item price: \")) \n",
    "  totalItems = int(input(\"Enter the number of items: \"))\n",
    "  # Calculate the total price and tax of item\n",
    "  itemTax = itemPrice * tax\n",
    "  totalPrice = itemPrice + itemTax \n",
    "  totalPriceTaxed = totalPrice * totalItems\n",
    "  \n",
    "  # Print the results\n",
    "  print(\"Tax on the item is\", itemTax) \n",
    "  print(\"Total item price is\", totalPrice)\n",
    "  print(f\"Total taxed price for all items is {totalPriceTaxed:.2f}\")\n",
    "  \n",
    "if __name__ == \"__main__\":\n",
    "  main()"
   ]
  },
  {
   "cell_type": "code",
   "execution_count": 10,
   "metadata": {},
   "outputs": [
    {
     "name": "stdout",
     "output_type": "stream",
     "text": [
      "You were born in a leap year and you are younger than me\n"
     ]
    }
   ],
   "source": [
    "def main():\n",
    "  # Initialize variables\n",
    "  year = 0\n",
    "  # Get input from user\n",
    "  year = int(input(\"Enter the year you were born: \")) \n",
    " \n",
    " # Check if the year is a leap year and if the user is older or younger than me\n",
    "  if year % 4 == 0: \n",
    "    if year < 1999:\n",
    "      print(\"You were born in a leap year and you are older than me\")\n",
    "    else:\n",
    "      print(\"You were born in a leap year and you are younger than me\")\n",
    "  else:\n",
    "    if year < 1999:\n",
    "      print(\"You were not born in a leap year and you are older than me\")\n",
    "    elif year == 1999:\n",
    "      print(\"You were not born in a leap year and you are the same age as me\")\n",
    "    else:\n",
    "      print(\"You were not born in a leap year and you are younger than me\")\n",
    "  \n",
    "if __name__ == \"__main__\":\n",
    "  main()"
   ]
  },
  {
   "cell_type": "code",
   "execution_count": 15,
   "metadata": {},
   "outputs": [
    {
     "name": "stdout",
     "output_type": "stream",
     "text": [
      "<class 'float'>\n",
      "One half (1/2) = 0.5\n"
     ]
    }
   ],
   "source": [
    "def main():\n",
    "  \n",
    "  half = float(1.0/2.0) # Casted to integer yo make a point \n",
    "  print(type(half))\n",
    "  print(f\"One half (1/2) = {half}\")\n",
    "\n",
    "if __name__ == main():\n",
    "  main()"
   ]
  },
  {
   "cell_type": "code",
   "execution_count": 17,
   "metadata": {},
   "outputs": [
    {
     "name": "stdout",
     "output_type": "stream",
     "text": [
      "25.0C = 77.0F\n"
     ]
    }
   ],
   "source": [
    "def main():\n",
    "  # Initialize variables\n",
    "  fahrenheit = 0\n",
    "  celsius = 0\n",
    "  celsiusToFahrenheit = 0\n",
    "  \n",
    "  # Get input from user\n",
    "  celsius = float(input(\"Enter the temperature in Celsius: \"))\n",
    "  \n",
    "  # Convert celsius to fahrenheit\n",
    "  celsiusToFahrenheit = (celsius * 9/5) + 32\n",
    "  fahrenheit = round(celsiusToFahrenheit, 2)\n",
    "  \n",
    "  # Print the results\n",
    "  print(f\"{celsius}C = {fahrenheit}F\")\n",
    "  \n",
    "if __name__ == main():\n",
    "  main()"
   ]
  },
  {
   "cell_type": "code",
   "execution_count": 18,
   "metadata": {},
   "outputs": [
    {
     "name": "stdout",
     "output_type": "stream",
     "text": [
      "Invalid selection. Please try again.\n",
      "15.0 pounds = 18.0 dollars\n"
     ]
    }
   ],
   "source": [
    "def main():\n",
    "  \n",
    "  # Initialize variables\n",
    "  pounds = 0\n",
    "  dollars = 0\n",
    "  exchangeRate = 0\n",
    "  \n",
    "  # while loop to keep asking the user for input until a valid input is given\n",
    "  while True:\n",
    "    try:\n",
    "      userSelection = input(\"Would you like to convert from pounds to dollars or dollars to pounds?\\n1. Pounds to dollars\\n2. Dollars to pounds\\n\\n>\").lower()\n",
    "      # Check if the user input is valid and converts pounds to dollars\n",
    "      if userSelection in [\"1\", \"one\", \"pounds to dollars\"]:\n",
    "        pounds = float(input(\"Enter the amount in pounds: \"))\n",
    "        exchangeRate = float(input(\"Enter the exchange rate: \"))\n",
    "        dollars = pounds * exchangeRate\n",
    "        print(f\"{pounds} pounds = {dollars} dollars\")\n",
    "        break\n",
    "      # Check if the user input is valid and converts dollars to pounds\n",
    "      elif userSelection in [\"2\", \"two\", \"dollars to pounds\"]:\n",
    "        dollars = float(input(\"Enter the amount in dollars: \"))\n",
    "        exchangeRate = float(input(\"Enter the exchange rate: \"))\n",
    "        pounds = dollars / exchangeRate\n",
    "        print(f\"{dollars} dollars = {pounds} pounds\")\n",
    "        break\n",
    "      # If the user input is invalid, print an error message\n",
    "      else:\n",
    "        print(\"Invalid selection. Please try again.\")\n",
    "    except ValueError:\n",
    "      print(\"Invalid input. Please try again.\")\n",
    "    \n",
    "if __name__ == main():\n",
    "  main()"
   ]
  },
  {
   "cell_type": "code",
   "execution_count": 19,
   "metadata": {},
   "outputs": [
    {
     "name": "stdout",
     "output_type": "stream",
     "text": [
      "The largest number is 7\n"
     ]
    }
   ],
   "source": [
    "def main():\n",
    "  \n",
    "  # Initialize variables\n",
    "  firstNumber = 0\n",
    "  secondNumber = 0\n",
    "  thirdNumber = 0\n",
    "  fouthNumber = 0\n",
    "  fifthNumber = 0\n",
    "  \n",
    "  # Get input from user\n",
    "  firstNumber = int(input(\"Enter the first number: \"))\n",
    "  secondNumber = int(input(\"Enter the second number: \"))\n",
    "  thirdNumber = int(input(\"Enter the third number: \"))\n",
    "  fouthNumber = int(input(\"Enter the fourth number: \"))\n",
    "  fifthNumber = int(input(\"Enter the fifth number: \"))\n",
    "  \n",
    "  # Find the largest number using only if statments\n",
    "  largestNumber = firstNumber\n",
    "  if secondNumber > largestNumber:\n",
    "    largestNumber = secondNumber\n",
    "    if thirdNumber > largestNumber:\n",
    "      largestNumber = thirdNumber\n",
    "      if fouthNumber > largestNumber:\n",
    "        largestNumber = fouthNumber\n",
    "        if fifthNumber > largestNumber:\n",
    "          largestNumber = fifthNumber\n",
    "    \n",
    "  # Print the results\n",
    "  print(f\"The largest number is {largestNumber}\")\n",
    "  \n",
    "  \n",
    "  \n",
    "  \n",
    "if __name__ == main():\n",
    "  main()"
   ]
  },
  {
   "cell_type": "code",
   "execution_count": null,
   "metadata": {},
   "outputs": [],
   "source": []
  },
  {
   "cell_type": "code",
   "execution_count": null,
   "metadata": {},
   "outputs": [],
   "source": []
  },
  {
   "cell_type": "code",
   "execution_count": null,
   "metadata": {},
   "outputs": [],
   "source": []
  }
 ],
 "metadata": {
  "kernelspec": {
   "display_name": "Python 3",
   "language": "python",
   "name": "python3"
  },
  "language_info": {
   "codemirror_mode": {
    "name": "ipython",
    "version": 3
   },
   "file_extension": ".py",
   "mimetype": "text/x-python",
   "name": "python",
   "nbconvert_exporter": "python",
   "pygments_lexer": "ipython3",
   "version": "3.12.0"
  }
 },
 "nbformat": 4,
 "nbformat_minor": 2
}
