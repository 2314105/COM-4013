{
 "cells": [
  {
   "cell_type": "markdown",
   "metadata": {},
   "source": [
    "# COM4013 – Introduction to Software Development \n",
    "# Week 6 – Lists and Good Coding Practice"
   ]
  },
  {
   "cell_type": "markdown",
   "metadata": {},
   "source": [
    "#### Simple Lists \n",
    "- Create a new Jupyter Notebook project called Lab 6 Exercises. Refer to Week 1’s \n",
    "lecture/worksheet/video if you have forgotten how to create a new \n",
    "project/file/program or use the shell code. \n",
    "\n",
    "- Create a List called weekdays containing the days of the week (\"Sunday\", \n",
    "\"Monday\", etc.). Read the lecture notes \"Creating a List\" or \"Accessing List \n",
    "Elements: Examples\". \n",
    "\n",
    "- Display each of the 7 List elements using 7 print() statements in the style \n",
    "shown in the lecture notes on the slide \"Accessing List Elements: Examples\". \n",
    "\n",
    "- Then use a for loop to display the 7 elements, following the style shown on the \n",
    "lecture notes slide \"‘for’ Loops and Lists\" This shows how well suited for loops \n",
    "are for Lists."
   ]
  },
  {
   "cell_type": "code",
   "execution_count": null,
   "metadata": {},
   "outputs": [],
   "source": []
  },
  {
   "cell_type": "markdown",
   "metadata": {},
   "source": [
    "#### All Strings are Sequences \n",
    "- Declare a variable called firstName and set the value to your first name. \n",
    "\n",
    "- As the Python String is a Sequence we can access the individual letters of \n",
    "firstName by using the same indexing techniques as we do with Lists. \n",
    "\n",
    "- Write the following code to print the first letter of firstName \n",
    "print( name[0] ) # Prints the first letter of your name "
   ]
  },
  {
   "cell_type": "code",
   "execution_count": null,
   "metadata": {},
   "outputs": [],
   "source": []
  },
  {
   "cell_type": "markdown",
   "metadata": {},
   "source": [
    "#### Strings as Lists \n",
    "- Create a new cell in Jupyter Notebook (use the shell code). \n",
    "- This exercises uses the weekdays List again (Copy the weekdays initialisation \n",
    "code into this cell). This time we want to display only the days that begin with 'S' \n",
    "or 'T'. This is easy once you realise that strings can be used like a List of \n",
    "characters: \n",
    "\n",
    "- If we have a string called dayString that contains the word \"Monday\" \n",
    "\n",
    "- Then dayString[0] is 'M', dayString[1] is 'o', dayString[2] is 'n', etc. \n",
    "\n",
    "- Also len(dayString) is 6 \n",
    " \n",
    "- Use the earlier weekdays List (copy and paste it into the cell). However, if you \n",
    "created a new .py file for some reason then you will need to declare the weekdays \n",
    "List again. \n",
    "\n",
    "- Write another for loop that goes through the 7 weekdays List elements, but \n",
    "instead of displaying them inside the loop write this line inside the loop (but use \n",
    "the correct variable names for your project): \n",
    "\n",
    "- dayString = weekdays[i]; \n",
    "\n",
    "- This simply copies the weekday into a local variable so it is easier to work with \n",
    " \n",
    "- After that line, still inside your loop, use an if statement to test whether the first \n",
    "character of the string is 'S' or 'T'.  \n",
    "\n",
    "- If the first character is 'S' or 'T', then display that day of the week. The correct \n",
    "output should be (assuming you started your week days on Sunday):\n",
    "\n",
    "- Sunday\n",
    "- Tuesday\n",
    "- Thursday \n",
    "- saturday "
   ]
  },
  {
   "cell_type": "code",
   "execution_count": null,
   "metadata": {},
   "outputs": [],
   "source": []
  },
  {
   "cell_type": "markdown",
   "metadata": {},
   "source": [
    "#### Strings as Lists 2 \n",
    "- Create a new cell in Jupyter Notebook (use the shell code). \n",
    "\n",
    "- This exercises uses the weekdays List again (Copy the weekdays initialisation \n",
    "code into this cell). This time we want to display only the first letter of each \n",
    "weekday within the List. \n",
    "\n",
    "- Write a for loop to print every letter of your name on its very own line and in \n",
    "upper case. Use the len() function to work out the size of your weekdays List. \n",
    "- S \n",
    "- M \n",
    "- T \n",
    "- W \n",
    "- T \n",
    "- F \n",
    "- S \n",
    "\n",
    "- Hint: You will need one [index of the List element][index of the first letter] "
   ]
  },
  {
   "cell_type": "code",
   "execution_count": null,
   "metadata": {},
   "outputs": [],
   "source": []
  },
  {
   "cell_type": "markdown",
   "metadata": {},
   "source": [
    "#### Sum of All List Elements \n",
    "- Create a new cell in Jupyter Notebook (use the shell code). \n",
    "\n",
    "- Declare a List called numbers and assign the following values to it: \n",
    "\n",
    "- 1, 3, 4, 6, 7, 8, 19, 2, 4, 6, 7, 8, 13, 17, 11 \n",
    "\n",
    "- Using a for loop and a variable called sum, write a program that calculates the \n",
    "sum of all of the elements in the numbers List. \n",
    "\n",
    "- Print the following statement to the screen, and note that 88 is not the correct \n",
    "answer... \n",
    " \n",
    "- The sum of your array elements is: 88 "
   ]
  },
  {
   "cell_type": "code",
   "execution_count": null,
   "metadata": {},
   "outputs": [],
   "source": []
  },
  {
   "cell_type": "markdown",
   "metadata": {},
   "source": [
    "#### List from User Input \n",
    "- Create a new cell in Jupyter Notebook (use the shell code). \n",
    "\n",
    "- Ask the user for a List size and let them input an integer. Don't worry about \n",
    "validating the input, assume it will be sensible. \n",
    "\n",
    "- Declare a List called userList of the size the user asked for. You need to specify \n",
    "the size of the List, but do not attempt to specify the actual values it contains (this \n",
    "needs to be an empty List).\n",
    "\n",
    "- Use a for loop to step through and input each array element from the user. That \n",
    "means inside the loop you would need a line like this, but make sure you use the \n",
    "correct variable name for your code: \n",
    "\n",
    "- userList[i] = # Regular input code for an integer input \n",
    " \n",
    " \n",
    "- Create a new cell in Jupyter Notebook (use the shell code). \n",
    "\n",
    "- Write a second for loop to display the contents of this List in reverse order \n",
    "\n",
    "- This is similar to the earlier exercise to display a List, but this time you \n",
    "need a loop that decreases. Be very careful about choosing the start value \n",
    "and ending condition for this loop. The wrong choice will result in a crash \n",
    "or won't show all the numbers. Read the lecture notes \"Out of Range \n",
    "Indexes\" and look carefully at the range of valid indexes used. Ask your \n",
    "tutor if you get problems here. \n",
    " \n",
    "- Add a simple print() statement after the above code. \n",
    "\n",
    "- Optional: There is an easy way to sort a simple List like this into increasing order. \n",
    "However, you will need to research available Python List methods. Can you find \n",
    "it? If so then display the sorted List. "
   ]
  },
  {
   "cell_type": "code",
   "execution_count": null,
   "metadata": {},
   "outputs": [],
   "source": []
  },
  {
   "cell_type": "markdown",
   "metadata": {},
   "source": [
    "#### Plus Minus  \n",
    "  \n",
    "- This is an interview question that I liked the look of – You should be able to complete \n",
    "this one at this point of time. \n",
    " \n",
    "- HINT: You MAY need one piece of code I covered in last week’s review... \n",
    "Something new that I’ve never touched on before. \n",
    " \n",
    "- Given an array of integers, calculate the ratios of its elements that \n",
    "are positive, negative, and zero. Print the decimal value of each fraction on a new line \n",
    "with 6  places after the decimal. \n",
    " \n",
    "- Note: This challenge introduces precision problems. The test cases are scaled to six \n",
    "decimal places, though answers with absolute error of up to 10-4  are acceptable. \n",
    " \n",
    "- Example (This is test case 1 for this program) \n",
    "- arr = [1, 1, 0, -1, -1] \n",
    "- There are n = 5 elements, two positive, two negative and one zero. Their ratios \n",
    "- are 2/5 = 0.400000, 2/5 = 0.400000 and 1/5 = 0.200000. Results are printed  \n",
    " \n",
    "- as: \n",
    "- 0.400000 \n",
    "- 0.400000 \n",
    "- 0.200000"
   ]
  },
  {
   "cell_type": "code",
   "execution_count": null,
   "metadata": {},
   "outputs": [],
   "source": []
  },
  {
   "cell_type": "markdown",
   "metadata": {},
   "source": [
    "#### Function Description \n",
    "- Complete the plusMinus function below:\n",
    "\n",
    "- def plusMinus(arr): \n",
    "- ---- Write your code here for the function specified   \n",
    "- ---pass    \n",
    " \n",
    "- if __name__ == '__main__': \n",
    "- ---arr = [1,1,0,-1,-1] \n",
    "- ---plusMinus(arr)\n",
    "\n",
    "- plusMinus has the following parameter(s): \n",
    "- List arr[n]: a List of integers \n",
    "#### Print \n",
    "Print the ratios of positive, negative and zero values in the array. Each value should be \n",
    "printed on a separate line with 6 digits after the decimal. The function should not \n",
    "return a value. \n",
    " \n",
    "#### Input Format \n",
    "The first line contains an integer, n, the size of the array. \n",
    "The second line contains n space-separated integers that describe arr[n]. \n",
    " \n",
    "#### Constraints \n",
    "- 0 < n <= 100 \n",
    "- -100 <= arr[i] <= 100 \n",
    " \n",
    "#### Output Format \n",
    "- Print the following 3 lines, each to 6 decimals: \n",
    "1. proportion of positive values \n",
    "2. proportion of negative values \n",
    "3. proportion of zeros\n",
    "\n"
   ]
  },
  {
   "cell_type": "code",
   "execution_count": null,
   "metadata": {},
   "outputs": [],
   "source": []
  },
  {
   "cell_type": "markdown",
   "metadata": {},
   "source": [
    "#### Draw a Simple Circle \n",
    "- Draw a circle of X's using nested for loops, with the user specifying the radius. \n",
    "The example below is illustrative, you will need a formula: \n",
    "If the user's choice for the radius of the circle is R (rows), and you are drawing the \n",
    "row that is L lines above or below the centre-most row, then the number of X's in \n",
    "that row is (from Pythagoras):  222 LR −\n",
    " \n",
    "- You will need the Math library for the square root and the math.ceil function \n",
    "\n",
    "- Using this formula adds a little difficulty because L = 0 on the centre line, but we \n",
    "have to start drawing at the top line. For that reason you might want to start your \n",
    "loop counter at a negative value. \n",
    "\n",
    "- The final full circle should look somewhat like this. Larger circles will look better \n",
    "as we do have to cast the numberOfX formula variable to an int (or math.ceil) \n",
    "which will distort the spacing ever so slightly (My output below is for a circle \n",
    "with a radius of 10)."
   ]
  },
  {
   "cell_type": "code",
   "execution_count": null,
   "metadata": {},
   "outputs": [],
   "source": []
  }
 ],
 "metadata": {
  "language_info": {
   "name": "python"
  }
 },
 "nbformat": 4,
 "nbformat_minor": 2
}
