{
 "cells": [
  {
   "cell_type": "markdown",
   "metadata": {},
   "source": [
    "# COM4013 – Introduction to Software Development\n",
    "# Week 5 – For Loops, Debugger, and Review\n",
    "\n",
    "#### Lab Exercises\n",
    "The exercises in this lab follow the topics in the lecture notes. Refer to the lecture notes for examples and guidance. \n",
    "\n",
    "There are two \"stages\" marked in the lab sheet. Stage 1 is the absolute minimum point you should reach. Hopefully, you can reach it in the lab session. Reaching stage 2 suggests you are on target for a top-class mark for the module. Set your goals sensibly - do not just aim for the minimum or you may struggle to pass the module.\n",
    "\n",
    "I use the term integer, string and float, and Boolean to infer what the input/output looks like. Unlike many other languages Python does not expect a data type before the variable names.\n",
    "\n",
    "So if I ask that you declare an integer num1 to 1, then do as follows:\n",
    "num1 = 1\n",
    "For declaring a string and assigning the value hello\n",
    "greeting = \"hello\" \n",
    "For floats we can declare it like this\n",
    "Money = 2.50\n",
    "For Booleans (bool) we can declare it like this\n",
    "isHeavy = True\n",
    "\n"
   ]
  },
  {
   "cell_type": "markdown",
   "metadata": {},
   "source": [
    "#### Password Protection Program\n",
    "- Create a new Jupyter Notebook project called Lab 5 Exercises. Refer to Week 1’s lecture/worksheet/video if you have forgotten how to create a new project/file/program or use the shell code.\n",
    "- Initialise a variable called attempts with a value of 3. This variable will keep track of how many attempts the user has left.\n",
    "\n",
    "- Create a for loop that will run three times, using the range() construct. This will ensure that the program allows three password input attempts.\n",
    "\n",
    "- Inside the loop, set the correct password as password = \"password123\".\n",
    "- Prompt the user to enter their password and store their input in a variable called passwordInput.\n",
    "- Check whether the passwordInput is equal to the correct password. \n",
    "- If the passwordInput is not correct, decrement the attempts variable by 1. \n",
    "- If the user has no attempts left, then print a message indicating that the user is locked out of the system and should contact the administrator for more information. \n",
    "- Else print the number of attempts they have left.\n",
    "- If the passwordInput is correct, print a message indicating that the user has successfully logged on.\n",
    "- If the for loop is incorrectly written then you may find that the user is asked for a password input again (fix you for loop to only allow 3 loops, the start is inclusive, and the end is exclusive).\n",
    "- You MUST also break out of the loop at this point as it is likely that you still have some attempts left\n",
    "\n"
   ]
  },
  {
   "cell_type": "code",
   "execution_count": null,
   "metadata": {},
   "outputs": [],
   "source": []
  },
  {
   "cell_type": "markdown",
   "metadata": {},
   "source": [
    "#### Improved Password Protection Program (optional)\n",
    "- As an OPTIONAL TASK (do not ask me about this) - First Create a new cell and copy the code from above into it.\n",
    "- you can improve the logic of your password protection program by editing the for loop. Instead of using the attempts variable, we can use the counting variable in the for loop itself to track the attempts. This change will also involve counting backward.\n"
   ]
  },
  {
   "cell_type": "code",
   "execution_count": null,
   "metadata": {},
   "outputs": [],
   "source": []
  },
  {
   "cell_type": "markdown",
   "metadata": {},
   "source": [
    "#### Nested 'for' Loops\n",
    "- Create a new cell in Jupyter Notebook (use the shell code).\n",
    "- Try to do these on your own first...\n",
    "- Write a 'for' loop that displays 10 X's in a row. The code to do this is shown in the lecture notes. \n",
    "XXXXXXXXXX\n"
   ]
  },
  {
   "cell_type": "code",
   "execution_count": null,
   "metadata": {},
   "outputs": [],
   "source": []
  },
  {
   "cell_type": "markdown",
   "metadata": {},
   "source": [
    "Note: You must use nested for loops in all these exercises. Do not try to solve these problems with many repeated print() statements!\n",
    "- XXXXXXXXXXXXXXXXXXXX\n",
    "- XXXXXXXXXXXXXXXXXXXX\n",
    "- XXXXXXXXXXXXXXXXXXXX\n",
    "- XXXXXXXXXXXXXXXXXXXX\n",
    "- XXXXXXXXXXXXXXXXXXXX\n",
    "- XXXXXXXXXXXXXXXXXXXX\n",
    "- XXXXXXXXXXXXXXXXXXXX\n",
    "- XXXXXXXXXXXXXXXXXXXX\n",
    "- XXXXXXXXXXXXXXXXXXXX\n",
    "- XXXXXXXXXXXXXXXXXXXX\n"
   ]
  },
  {
   "cell_type": "code",
   "execution_count": null,
   "metadata": {},
   "outputs": [],
   "source": []
  },
  {
   "cell_type": "markdown",
   "metadata": {},
   "source": [
    "- Add a newline print (in the same cell), change the size of the box so it is 10 high and 5 wide:\n",
    "- XXXXX\n",
    "- XXXXX\n",
    "- XXXXX\n",
    "- XXXXX\n",
    "- XXXXX\n",
    "- XXXXX\n",
    "- XXXXX\n",
    "- XXXXX\n",
    "- XXXXX\n",
    "- XXXXX\n"
   ]
  },
  {
   "cell_type": "code",
   "execution_count": null,
   "metadata": {},
   "outputs": [],
   "source": []
  },
  {
   "cell_type": "markdown",
   "metadata": {},
   "source": [
    "- Add a newline print (in the same cell) and try to draw different shapes with 'for' loops. Copy and update your code to show an L shape as shown below 4*15.\n",
    "\n",
    "- This is easy when you see the shape is actually made of two different sized boxes. So, you need two copies of the code you have already with different dimensions. The boxes are shown in different colours below (we won't show colour in the print though), count the X's and make sure you get the box sizes correct:\n",
    "\n",
    "- XXXXX\n",
    "- XXXXX\n",
    "- XXXXX\n",
    "- XXXXX\n",
    "- XXXXX\n",
    "- XXXXX\n",
    "- XXXXX\n",
    "- XXXXX\n",
    "- XXXXX\n",
    "- XXXXX\n",
    "- XXXXX\n",
    "- XXXXXXXXXXXXXXX\n",
    "- XXXXXXXXXXXXXXX\n",
    "- XXXXXXXXXXXXXXX\n",
    "- XXXXXXXXXXXXXXX\n"
   ]
  },
  {
   "cell_type": "code",
   "execution_count": null,
   "metadata": {},
   "outputs": [],
   "source": []
  },
  {
   "cell_type": "markdown",
   "metadata": {},
   "source": [
    "- Add a newline print (in the same cell). Now change your program to draw a T shape. This has the same two boxes swapped around. Also, the tall thin box is pushed to the right. Do this by displaying extra spaces before each line for this box. Think carefully where to put that code, but also experiment - you will learn by trying out different ideas:\n",
    "\n",
    "- XXXXXXXXXXXXXXX\n",
    "- XXXXXXXXXXXXXXX\n",
    "- XXXXXXXXXXXXXXX\n",
    "- XXXXXXXXXXXXXXX\n",
    "- -----XXXXX\n",
    "- -----XXXXX\n",
    "- -----XXXXX\n",
    "- -----XXXXX\n",
    "- -----XXXXX\n",
    "- -----XXXXX\n",
    "- -----XXXXX\n",
    "- -----XXXXX\n",
    "- -----XXXXX\n",
    "- -----XXXXX\n"
   ]
  },
  {
   "cell_type": "code",
   "execution_count": null,
   "metadata": {},
   "outputs": [],
   "source": []
  },
  {
   "cell_type": "markdown",
   "metadata": {},
   "source": [
    "#### NestedNumberGrid\n",
    "- Create a new cell in Jupyter Notebook (use the shell code).\n",
    "- Write with the code to draw a box of X's, 7 wide and 5 high (copy one of your nested loops from the previous exercise).\n",
    "\n",
    "Next, we want to update the code to display a grid of numbers as shown below 7*5. There should be a space between each number and a blank line between each row.\n",
    " The next few steps will give you instructions on how to do this.\n",
    "\n",
    "- 01 02 03 04 05 06 07  \n",
    "- 08 09 10 11 12 13 14\n",
    "- 15 16 17 18 19 20 21 \n",
    "- 22 23 24 25 26 27 28\n",
    "- 29 30 31 32 33 34 35\n",
    "\n",
    "- To draw the number grid, we need to replace each \"X\" with a number. Also, the numbers must have two digits, small numbers like 7 need to be displayed 07.\n",
    "\n",
    "- Start by replacing the \"X \" in your print statement with your inner loop variable. So, for example, if your inner loop uses a variable called j, then display j instead of \"X.\" (remember you don't use quotation marks to display variables)\n",
    "\n",
    "Print(j, end='')\n",
    "\n",
    "- Now we can make sure that each number has two digits with some special Python formatting. You may have seen this if you reached the later stages of last week's lab - the 0:02 part makes sure numbers are displayed with at least 2 digits. Replace the line you just wrote with this, but make sure you use the correct variable name for your program:\n",
    "\n",
    "print(\"{0:02}  \".format(j), end='')\n",
    "\n",
    "You should see a result like this:\n",
    "- 01 02 03 04 05 06 07 \n",
    "- 01 02 03 04 05 06 07 \n",
    "...\n",
    "\n",
    "This is close, but not quite what we want. The number should not reset back to 01 on each row, but that is what the loop variable is doing. The loops are working OK, so we don't want to change their variables. So, we need another variable:\n",
    "\n",
    "¨\tDeclare a new integer at the start of your program and initialise it to 1. Inside the inner loop, increment this variable. Display this variable in your print statement instead of the loop variable. You should get the correct result: \n",
    "- 01 02 03 04 05 06 07 \n",
    "- 08 09 10 11 12 13 14\n",
    "- 15 16 17 18 19 20 21\n",
    "...\n",
    "\n",
    "\n",
    "When writing loops, you can use the loop variables themselves or you can declare new variables that work independently. Exactly what you need depends on the problem you're trying to solve.\n",
    "\n",
    "Virtually every loop you write will need to use variables, but always think carefully about the correct variable to use, or if you need to create a new variable.\n"
   ]
  },
  {
   "cell_type": "code",
   "execution_count": null,
   "metadata": {},
   "outputs": [],
   "source": []
  },
  {
   "cell_type": "markdown",
   "metadata": {},
   "source": [
    "#### Practice\n",
    "The solutions to these questions may at some future junctures be provided on the module webpage so you can check your work. Attempt the exercises before looking at the answers or you will gain no skill (I would have released them in advance if I didn’t think most of you would peek).\n",
    "\n",
    "- Create a new cell in Jupyter Notebook (use the shell code).\n",
    "You don't need to create a new project for every answer, you can put multiple answers in the same project. Create a new project if you feel your current project is getting too full though. Separate each answer with these lines (same as a previous worksheet);\n",
    "- print('\\n')\n",
    "- Or we can comment the code out by highlighting earlier sections and pressing ctrl+/ \n"
   ]
  },
  {
   "cell_type": "code",
   "execution_count": null,
   "metadata": {},
   "outputs": [],
   "source": []
  },
  {
   "cell_type": "markdown",
   "metadata": {},
   "source": [
    "#### Practice 1\n",
    "Follow these simple instructions exactly and when you are finished your code should match the solution precisely, line for line. This tests whether you understand the programming terms used:\n",
    "\n",
    "- Declare an integer called fileCount and initialise it to 0.\n",
    "- On the next line declare an integer called fileSize but do not initialise it (you will have to assign it a value though - N**e).\n",
    "- On the next line using the shorthand operators, increment fileCount\n",
    "- On the next line assign 1000 to fileSize\n",
    "- On the final line display a message in this format (using the fileCount and fileSize variables to display the numbers in red). Your output should be identical except for the colours:\n",
    "- The number of files is 1, the file size is [1000].\n"
   ]
  },
  {
   "cell_type": "code",
   "execution_count": null,
   "metadata": {},
   "outputs": [],
   "source": []
  },
  {
   "cell_type": "markdown",
   "metadata": {},
   "source": [
    "#### Practice 2\n",
    "Ask the user for their age. Display a different message depending on whether they are a child, adult or pensioner. You can decide the age ranges.\n",
    "\n",
    "Add some input validation to the integer value to prevent a ValueError.\n"
   ]
  },
  {
   "cell_type": "code",
   "execution_count": null,
   "metadata": {},
   "outputs": [],
   "source": []
  },
  {
   "cell_type": "markdown",
   "metadata": {},
   "source": [
    "#### Practice 3\n",
    "- Write a number guessing game program. You can use the word guessing game from the week 3 and 4 lectures as a basis for your code:\n",
    "\n",
    "- The program selects a number - you can just choose a number and type it in the program (e.g., 231), or better you can get a random number using the method shown:\n",
    "\n",
    "- import random # You can use this for your assignment\n",
    "\n",
    "- Generate a random integer between a specified range (inclusive)\n",
    "- randomNumber = random.randint(1, 100)\n",
    "- You don’t need this... It’s just here to print these numbers...\n",
    "- print(\"Random integer:\", random_number)\n",
    "\n",
    "The user guesses this number. If they are wrong the program say so and tells them whether the correct number is higher or lower than their guess.\n",
    "The guessing game continues until the user guesses correctly - a winning message is displayed.\n",
    "\n",
    "You may as well ensure that the morons who are using your programme can’t break it by entering an emoji etc. Gracefully handle the errors.\n"
   ]
  },
  {
   "cell_type": "code",
   "execution_count": null,
   "metadata": {},
   "outputs": [],
   "source": []
  },
  {
   "cell_type": "markdown",
   "metadata": {},
   "source": [
    "#### Practice 4\n",
    "- Use a for loop to display the 12 \"times-table\" up to 12 x 12:\n",
    "- 12 x 1 = 12\n",
    "- \t12 x 2 = 24\n",
    "- \t12 x 3 = 36\n",
    "\n",
    "A little tricky: Update your program to show all the \"times-tables\" from 1 to 12. You will need to nest your loop.\n"
   ]
  },
  {
   "cell_type": "code",
   "execution_count": null,
   "metadata": {},
   "outputs": [],
   "source": []
  },
  {
   "cell_type": "markdown",
   "metadata": {},
   "source": [
    "#### Practice 5\n",
    "Display a menu with 5 choices (you decide what the choices are...). Ask the user for their choice that must be in the range 1-5. Fully validate their answer:\n",
    "If they type a choice outside the valid range, or if they type something that isn't a number (like words), then an error message is displayed, and they are prompted to enter their choice again.\n",
    "\n",
    "Also, for cleanliness, use the clear_output() function so that we do not have multiple copies of the menu. Use the library below to get the clear_ouput function (it works in Jupyter – I do not know if it works elsewhere).\n",
    "\n",
    "You may wish to place it before the print statement in your except clause as that will ensure that you gave the neatest solution.\n",
    "\n",
    "- from IPython.display import clear_output\n"
   ]
  },
  {
   "cell_type": "code",
   "execution_count": null,
   "metadata": {},
   "outputs": [],
   "source": []
  },
  {
   "cell_type": "markdown",
   "metadata": {},
   "source": [
    "#### Advanced Tasks\n",
    "\n",
    "- Calendar Program - To Completion (You must complete the Calendar task from the last Practical worksheet to do this task)\n",
    "-  \n",
    "- Now, we attempt a standard calendar display. First try to make this output:\n",
    "\n",
    "- Enter a year: 2011\n",
    "\n",
    "- January\n",
    "- Mon Tue Wed Thu Fri Sat Sun\n",
    "- 01  02  03  04  05  06  07\n",
    "- 08  09  10  11  12  13  14\n",
    "- 15  16  17  18  19  20  21\n",
    "- 22  23  24  25  26  27  28\n",
    "- 29  30  31\n",
    "\n",
    "- February\n",
    "- Mon Tue Wed Thu Fri Sat Sun\n",
    "- 01  02  03  04  05  06  07\n",
    "\n",
    "- We'll first assume that all months start on a Monday to make the first step simpler. \n",
    "\n",
    "Let’s add a print statement below the variable to get the name of the current month:\n",
    "print(\"Mon Tue Wed Thu Fri Sat Sun\")\n",
    " \n",
    "- When we print we should see the following\n",
    "\n",
    "- Enter a year: 2011\n",
    " \n",
    "- January\n",
    "- Mon Tue Wed Thu Fri Sat Sun\n",
    "\n",
    "It might be tempting to use another nested loop for each row of the output. However, that's not the simplest way. Instead create a new integer variable weekDay that calculates the start day of the month (this must be placed after the print statement from above in the month for loop). \n",
    "\n",
    "- Calculate the starting day of the month (0 for Sunday, 1 for Monday, etc.)\n",
    "weekDay = datetime(year, month, 1).weekday()\n",
    "\n",
    "Remove the current code in your day loop and switch with the following:\n",
    "\n",
    "- Print day with leading 0 if it's a single-digit number\n",
    "\n",
    "print(f\" {day:02} \", end='')  # Same format as before\n",
    "weekDay = (weekDay + 1) % 7  # Update the day of the week\n",
    "\n",
    "- Inside the day loop test 'if' the weekDay variable is equal to 7 then do an extra print(). This creates the grid-like effect and makes the next stage simpler.\n",
    "\n",
    "\n",
    "- Enter a year: 1996\n",
    "- January\n",
    "\n",
    "- Mon Tue Wed Thu Fri Sat Sun\n",
    "-  01  02  03  04  05  06  07 \n",
    "-  08  09  10  11  12  13  14 \n",
    "-  15  16  17  18  19  20  21 \n",
    "-  22  23  24  25  26  27  28 \n",
    "-  29  30  31 \n",
    "\n",
    " \n",
    " \n",
    "As you can see from above, we formatted the numbers a little: we need an extra 0 at the start of the single digit numbers. This can be done easily with Write / WriteLine:\n",
    "print(\"{day:02}  \", end='')\n",
    " \n",
    "- The extra :02 indicates to pad the output with 0's to at least two digits. \n",
    "\n",
    "\n",
    "Final Steps…\n",
    "Finally, before outputting the days for each month we can output some -- characters to display any days missing. As we already know the starting day of the month (weekDay variable), we can write a for loop to print the following -- characters as many times is required.\n",
    "\n",
    "- The final output should be (if your calendar does not look like this then there is something wrong with the for loop):\n",
    " \n",
    "- Enter a year: 2023\n",
    "- January\n",
    "\n",
    "- Mon Tue Wed Thu Fri Sat Sun\n",
    "-  --  --  --  --  --  --  01 \n",
    "-  02  03  04  05  06  07  08 \n",
    "-  09  10  11  12  13  14  15 \n",
    "-  16  17  18  19  20  21  22 \n",
    "-  23  24  25  26  27  28  29 \n",
    "-  30  31 \n",
    " \n",
    "\n",
    "- Make sure today's date has the correct day!\n"
   ]
  },
  {
   "cell_type": "code",
   "execution_count": null,
   "metadata": {},
   "outputs": [],
   "source": []
  },
  {
   "cell_type": "markdown",
   "metadata": {},
   "source": [
    "#### Draw more shapes\n",
    "\n",
    "- X\n",
    "- XX\n",
    "- XXX\n",
    "- XXXX\n",
    "- XXXXX\n",
    "- XXXXXX\n",
    "- XXXXXXX\n",
    "- XXXXXXXX\n",
    "- XXXXXXXXX\n",
    "- XXXXXXXXXX"
   ]
  },
  {
   "cell_type": "code",
   "execution_count": null,
   "metadata": {},
   "outputs": [],
   "source": []
  },
  {
   "cell_type": "markdown",
   "metadata": {},
   "source": [
    "- -------X\n",
    "- ------XXX\n",
    "- -----XXXXX\n",
    "- ----XXXXXXX\n",
    "- ---XXXXXXXXX\n",
    "- --XXXXXXXXXXX\n",
    "- -XXXXXXXXXXXXX\n",
    "- XXXXXXXXXXXXXXX\n"
   ]
  },
  {
   "cell_type": "code",
   "execution_count": null,
   "metadata": {},
   "outputs": [],
   "source": []
  },
  {
   "cell_type": "markdown",
   "metadata": {},
   "source": [
    "- -XXXX--------XXXX \n",
    "- --XXXX------XXXX\n",
    "- ---XXXX----XXXX \n",
    "- ----XXXX--XXXX \n",
    "- -----XXXXXXXX\n"
   ]
  },
  {
   "cell_type": "code",
   "execution_count": null,
   "metadata": {},
   "outputs": [],
   "source": []
  },
  {
   "cell_type": "markdown",
   "metadata": {},
   "source": [
    "At the start of your program allow the user to input the height of the shapes as an integer. Then update your code so each shape is drawn as the desired size. So, for example, the first triangle above is currently height 10, the second triangle is height 8. After this code change, all the shapes will be the same height - the loops extended to match the user's input."
   ]
  },
  {
   "cell_type": "code",
   "execution_count": null,
   "metadata": {},
   "outputs": [],
   "source": []
  },
  {
   "cell_type": "markdown",
   "metadata": {},
   "source": [
    "#### Outlines Only\n",
    "\n",
    "- Change shape 1 and 2 drawings to show the outline only, for example:\n",
    "\n",
    "- X\n",
    "- XX\n",
    "- X-X\n",
    "- X--X\n",
    "- X---X\n",
    "- X----X\n",
    "- X-----X\n",
    "- X------X\n",
    "- X-------X\n",
    "- XXXXXXXXXX"
   ]
  },
  {
   "cell_type": "code",
   "execution_count": null,
   "metadata": {},
   "outputs": [],
   "source": []
  }
 ],
 "metadata": {
  "language_info": {
   "name": "python"
  }
 },
 "nbformat": 4,
 "nbformat_minor": 2
}
