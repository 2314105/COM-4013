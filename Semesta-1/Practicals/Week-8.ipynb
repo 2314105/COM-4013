{
 "cells": [
  {
   "cell_type": "markdown",
   "metadata": {},
   "source": [
    "# COM4013 – Introduction to Software Development \n",
    "# Week 8 – More Questions, Classes, and Functions"
   ]
  },
  {
   "cell_type": "markdown",
   "metadata": {},
   "source": [
    "Write code to input a float from the user in the range 10.0 to 20.0. The code \n",
    "should fully validate the input: if the user types a number outside the range, or types \n",
    "some text that is not a number, then an error message is displayed, and the user must \n",
    "input again. This should be repeated until a valid number is entered. Very minor \n",
    "syntax errors will not be penalised."
   ]
  },
  {
   "cell_type": "code",
   "execution_count": null,
   "metadata": {},
   "outputs": [],
   "source": []
  },
  {
   "cell_type": "markdown",
   "metadata": {},
   "source": [
    "#### Calculator Class \n",
    "\n",
    "- Create a new cell and use the shell code. Read this entire task before beginning. \n",
    "\n",
    "- Look at the calculator code from week 7 and implement a class for this. \n",
    "\n",
    "  - If you have not completed this task, then rest assured that you can take a \n",
    "copy of my solution from the Week 7 – Session Practical Solutions file on \n",
    "Moodle. \n",
    " \n",
    "\n",
    "- First declare two member variables for the numerical inputs for the class methods \n",
    "\n",
    "- Next a constructor that allows the class to set the values for the member variables \n",
    "mentioned above. \n",
    "\n",
    "  - Use type hints in all your methods to make your method definitions more \n",
    "readable. \n",
    " \n",
    "\n",
    "- Write methods for addition, subtraction, multiplication, division, and modulus \n",
    "using the same logic as week 7 and week 4. \n",
    "\n",
    "  - Instead use the member variables and return the results for each operation. \n",
    " \n",
    " \n",
    "\n",
    "- Implement a new method that computes the result of raising the first member \n",
    "variable number to the power of the second member variable number. \n",
    "\n",
    "  - i.e., number1number2  \n",
    "\n",
    "- Implement another method to compute the result of raising the second member \n",
    "variable number to the power of the first member variable number. \n",
    "\n",
    "  - i.e., number1number2 \n",
    "\n",
    "- In Python the ** operator is used for exponentiation (or raising a number to a \n",
    "specific power). Use this in your methods above. \n",
    " \n",
    " \n",
    "\n",
    "- Write a method to return the factorial of member variables 1 and 2 as a List.  \n",
    "\n",
    "  - Use a range for loop to complete this task \n",
    "\n",
    "  - The output should look like this: \n",
    "  - !number1 = 6 \n",
    "  - !number2 = 24  \n",
    " \n",
    " \n",
    "\n",
    "- FULLY COMMENT THIS CLASS. One of the Learning Outcomes that will be \n",
    "assessed in your assignment is your ability to follow good coding practices.  \n",
    "\n",
    "  - I will give 0 points for any work that does not follow good programming \n",
    "practices that I have taught during this module. This may prevent you from \n",
    "getting the grades that you are aiming for. \n",
    " \n",
    " \n",
    "\n",
    "- Test the class using inputs 5 and 6 \n",
    "  - Round the division print to 2 decimal places \n",
    "- 5 + 6 = 11 \n",
    "- 5 - 6 = -1 \n",
    "- 5 * 6 = 30 \n",
    "- 5 / 6 = 0.8333333333333334 \n",
    "- 5 % 6 = 5 \n",
    "- 5 ^ 6 = 15625 \n",
    "- 6 ^ 5 = 7776 \n",
    "- !5    = 120 \n",
    "- !6    = 720 "
   ]
  },
  {
   "cell_type": "code",
   "execution_count": null,
   "metadata": {},
   "outputs": [],
   "source": []
  },
  {
   "cell_type": "markdown",
   "metadata": {},
   "source": [
    "#### File Reading and Writing (Solution will not be released for this) \n",
    "\n",
    "- Write a class for file reading or file writing. \n",
    "\n",
    "- Create a member variable called file name. \n",
    "•\n",
    "- rite a constructor that sets the filename member variable. Add type hints to this \n",
    "method. \n",
    "\n",
    "- Write a method called ReadFile that reads the entire file to a variable called \n",
    "contents and return this to the user. \n",
    "\n",
    "- Write a method called WriteFile that takes a parameter called contents and \n",
    "overwrites the contents of the filename member variable. \n",
    "\n",
    "- Write a method called AppendFile that takes a parameter called contents and \n",
    "writes contents onto a newline in the file. \n",
    "\n",
    "- Test this class to make sure everything is good. Open the file when testing."
   ]
  },
  {
   "cell_type": "code",
   "execution_count": null,
   "metadata": {},
   "outputs": [],
   "source": []
  }
 ],
 "metadata": {
  "language_info": {
   "name": "python"
  }
 },
 "nbformat": 4,
 "nbformat_minor": 2
}
