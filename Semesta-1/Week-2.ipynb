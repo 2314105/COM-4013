{
 "cells": [
  {
   "cell_type": "markdown",
   "metadata": {},
   "source": [
    "# COM4013 – Introduction to Software Development\n",
    "# Week 2 – Variables, Operators and Conditions\n"
   ]
  },
  {
   "cell_type": "markdown",
   "metadata": {},
   "source": [
    "#### Lab Exercises\n",
    "The exercises in this lab follow the topics in the lecture notes. Refer to the lecture notes for examples and guidance. \n",
    "\n",
    "There are two \"stages\" marked in the lab sheet. Stage 1 is the absolute minimum point you should reach. Hopefully, you can reach it in the lab session. Reaching stage 2 suggests you are on target for a top-class mark for the module. Going beyond stage 2 sets you apart as an expert. Set your goals sensibly - do not just aim for the minimum or you may struggle to pass the module."
   ]
  },
  {
   "cell_type": "markdown",
   "metadata": {},
   "source": [
    "#### A Common Error: Integer divided by Integer (Dynamic typing to the rescue…)\n",
    "- Create a new cell in Jupyter Notebook (use the shell code).\n",
    "- Copy the code below into the correct place in the shell code:\n",
    "\thalf = int(1/2) # Casted to integer yo make a point\n",
    "print(f\"One half (1/2) = {half}\")\t\n",
    "\n",
    "- Run the program. That’s strange... it says 1/2 = 0\n",
    "- Why does this happen? The computer calculates the division 1/2, but as both 1 and 2 are integers (there is no decimal point) it thinks you want an integer as an answer. So, it rounds the result 0.5 down to 0. The computer does this before it sees that the result is being put into a float (remember computers are stupid). \n",
    "- Luckily for us if we remove the casting then Python will automatically convert our integers to floating point numbers. So, we do not need to use a decimal point to indicate that our variable is a float.\n",
    "- Add print(type(half)) after the half variable. A great way to tell if your code is working as expected. You should see type float.\n",
    "- To be more precise we should use 1.0 and 2.0 for readability. Edit the programme to be more readable by doing this.\n"
   ]
  },
  {
   "cell_type": "code",
   "execution_count": null,
   "metadata": {},
   "outputs": [],
   "source": []
  },
  {
   "cell_type": "markdown",
   "metadata": {},
   "source": [
    "#### Fahrenheit to Celsius\n",
    "- Create a new cell in Jupyter Notebook (use the shell code).\n",
    "- Write a program that asks the user for a temperature in Celsius. Convert this temperature to Fahrenheit using the formula:\n",
    "\tFahrenheit = Celsius * (9/5) + 32\n",
    "\tWatch the brackets. Display the result as such (25C = 77.00F)\n"
   ]
  },
  {
   "cell_type": "code",
   "execution_count": null,
   "metadata": {},
   "outputs": [],
   "source": []
  },
  {
   "cell_type": "markdown",
   "metadata": {},
   "source": [
    "#### Currency Conversion\n",
    "-Create a new cell in Jupyter Notebook (use the shell code).\n",
    "- Write a program that inputs from the user an amount in pounds (£) and converts it to an amount in dollars ($), displaying the result. At first assume that the exchange rate is $1.5 for £1. Check your result carefully and make sure you are converting in the correct direction.\n",
    "- Update your program so the user can first enter the exchange rate to use instead of just using 1.5.\n",
    "- Extend the program further by first prompting the user \"Type 1 to convert from £ to $, or type 2 to convert from $ to £\". Then read the user's choice (as an integer). Use an 'if-else' statement that tests if this integer is equal to 1 as its condition. In the first block of the if statement, put the code to convert from £ to $, and in the second block ('else') add code to convert the other way, from $ to £. The code to convert the other way is the same.\n",
    "#### OPTIONAL: \n",
    "Clearly there is a lot of similar code between the if and else blocks here. Try to reduce the amount of duplicate code to the minimum. You can get it down to only one line in each block of the 'if-else' statement, although it will need some thought.\n"
   ]
  },
  {
   "cell_type": "code",
   "execution_count": null,
   "metadata": {},
   "outputs": [],
   "source": []
  },
  {
   "cell_type": "markdown",
   "metadata": {},
   "source": [
    "#### Maximum Number\n",
    "- Write a program that asks the user to input five different integers. Using 'if' statements work out which is the maximum of the five numbers and display it. You will need several 'if' statements to do this exercise. Ask me for advice if necessary.\n"
   ]
  },
  {
   "cell_type": "code",
   "execution_count": null,
   "metadata": {},
   "outputs": [],
   "source": []
  },
  {
   "cell_type": "markdown",
   "metadata": {},
   "source": [
    "#### Sorting (!)\n",
    "- Create a new cell in Jupyter Notebook (use the shell code).\n",
    "- Write another program that asks the user to input five different integers. Using 'if' or 'if-else' statements only, display the numbers in increasing order. E.g., user inputs: 5, 2, 11, 1, 4. Then the program outputs: 1, 2, 4, 5, 11\n",
    "This exercise is very difficult, but you have already reached the first-class stage for this lab sheet so challenges here are supposed to be very tough. You will gain experience just by thinking about this exercise.\n",
    "Possible approach: Compare the 2nd, 3rd, 4th and 5th values in turn with the 1st value. If any value is less than the 1st value, then swap it with the first value. Think carefully how to swap two variables. Now do the same comparing/swapping with values 3,4 & 5 against value 2. Then compare/swap 4, 5 against 3, then finally 5 against 4. There is a pattern there. Ten 'if' statements in total. Good luck!\n"
   ]
  },
  {
   "cell_type": "code",
   "execution_count": null,
   "metadata": {},
   "outputs": [],
   "source": []
  }
 ],
 "metadata": {
  "language_info": {
   "name": "python"
  }
 },
 "nbformat": 4,
 "nbformat_minor": 2
}
