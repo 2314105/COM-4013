{
 "cells": [
  {
   "cell_type": "markdown",
   "metadata": {},
   "source": [
    "# COM4013 – Introduction to Software Development\n",
    "# Week 3 – Elif, Operators, and While Loop\n"
   ]
  },
  {
   "cell_type": "markdown",
   "metadata": {},
   "source": [
    "#### And, Or in 'if' Statements\n",
    "- Create a new cell in Jupyter Notebook (use the shell code).\n",
    "\n",
    "- Copy this code into the shell code. It's the example from the lecture to display if the user is in their twenties.\n",
    "\tint age = int(input( \"Enter your age: \" )\n",
    "\n",
    "\tif (age >= 20 and age <= 29):\n",
    "\t    print(\"You are in your twenties\")\n",
    "\n",
    "- Add an 'else' statement to display a message when the user is not in their twenties\n",
    "\n",
    "- Add more 'if-else' statements to display if the user is in their thirties, forties, or if they are a teenager (13-19). Refer to the lecture notes, the slide titled, \"Chaining 'if' and 'else' Statements\" to see the style of code required.\n",
    "\n",
    "- Leave the else statement as is\n"
   ]
  },
  {
   "cell_type": "code",
   "execution_count": null,
   "metadata": {},
   "outputs": [],
   "source": []
  },
  {
   "cell_type": "markdown",
   "metadata": {},
   "source": [
    "#### A Simple 'while' Loop\n",
    "- Create a new cell in Jupyter Notebook (use the shell code).\n",
    "\n",
    "- Copy this code into the shell code. It's the counting example from the lecture.\n",
    "counter = 1\n",
    "while (counter <= 10):\n",
    "    print( counter )\n",
    "    counter+=1\n",
    "\n",
    "- Run the code and see that it works.\n",
    "\n",
    "- Add the following code , end=', ' to the print statement after counter.\n",
    "-\tWhat does it do?\n",
    "\n",
    "- Add the following code print(\"\\n\") after the while loop\n",
    "- This is the newline Unicode character that adds a line to our code. \n",
    "- Note that this can be used in conjunction with any string based aspects of our code such as within input( ) to create more neatness in our code.\n"
   ]
  },
  {
   "cell_type": "code",
   "execution_count": null,
   "metadata": {},
   "outputs": [],
   "source": []
  },
  {
   "cell_type": "markdown",
   "metadata": {},
   "source": [
    "#### A more complex 'while' Loop\n",
    "- Now add a completely new while loop afterwards that displays the even numbers only from 0 to 100. This will be a very similar piece of code.\n",
    "- Be careful about declaring the same variable twice. \n",
    "-\tAssign a new value to the counter variable\n",
    "•- Display it on a single line, separated by commas like this…\n",
    "\t0, 2, 4, 6, 8, 10, 12, 14...\n",
    "- Change your loop so the numbers appear in reverse order, 100, 98, 96...\n",
    "- Comment out the print(\"\\n\") before the second while loop to see what happens.\n"
   ]
  },
  {
   "cell_type": "code",
   "execution_count": null,
   "metadata": {},
   "outputs": [],
   "source": []
  },
  {
   "cell_type": "markdown",
   "metadata": {},
   "source": [
    "#### Adventure Game (The answer to these will not be released: Ask for advice as you go along)\n",
    "\n",
    "Now we will use the techniques we have covered to create a text-based adventure game.\n",
    "\n",
    "\n",
    "- Create a new cell in Jupyter Notebook (use the shell code).\n",
    "\n",
    "#### Starting the Game\n",
    "- First present an opening message welcoming the user to the adventure. It's a fantasy scenario with warriors and dragons so give it a suitable name.\n",
    "- Look at the code snippet below. Implement a start screen task where you ask the user to press any button to start the game.\n",
    "\n",
    "#### Code Snippets\n",
    "- Code that stop the code from executing until a key is pressed\n",
    "import keyboard  # Just put this with your other libraries\n",
    "\n",
    "- Some code you want to run – ask user to press any button to begin\n",
    "\n",
    "keyboard.read_event(suppress=True)  \n",
    "\n",
    "- Code that will run once the key is clicked\n",
    "\n",
    "- You might think the screen is a little dirty looking, and with too much text. So, lets clean it up by clearing the console.\n",
    "\n",
    "from IPython.display import clear_output\n",
    "\n",
    "clear_output()  # Use this function wherever we want to clear output\n",
    "\n",
    "- Next declare an integer variable called characterHealth. Initialise it to 100.\n",
    "- Next the user must choose to be a warrior or a scout. A warrior is stronger, but a scout is faster. Declare a variable called characterType. Ask the user whether they want to be warrior or scout, and based on their answer assign \"Warrior\" or \"Scout\" to your characterType variable. \n",
    "o\tIn this exercise the exact text of the user messages and the form of the user input is up to you. You may hit problems if you get incorrect user input, e.g. if you are expecting the user to type \"Warrior\" with a capital 'W', but they type it with a lower case 'w'. \n",
    "\n",
    "#### The First Trial - A Riddle\n",
    "At the start of the adventure, the character first reaches a huge stone door, which won't open. A huge voice booms out:\n",
    "- Answer this riddle to pass safely: What can you catch but cannot throw?\n",
    "- Write some text introducing this situation to the user. You might want to format your output nicely: use multiple WriteLine statements to stop the words from wrapping. Also, you can write blank lines like this:\n",
    "\tPrint( ) or by using \\n newline Unicode in the input itself\n",
    "\n",
    "Ask the user for the answer to the riddle storing the answer into a string variable\n",
    "\n",
    "- Then use an 'if-else' statement to test if their answer was correct. The answer is \"a cold\", but write your 'if' statement to accept either \"a cold\" or just \"cold\". Use the Python or operator - read the lecture notes if you have forgotten how to write it.\n",
    "- In the first block of the 'if-else' statement, when the user guesses correctly, the booming voice should say something like \"Well done, you may pass...\" and the door opens. Simply display text to describe this.\n",
    "\n",
    "- However, in the 'else' block, when the user guesses incorrectly, the voice says nothing, the door opens and fire jets out reducing the character's health. How much damage depends on the character type. Add another 'if-else' statement inside this block (this is a nested 'if' statement as discussed in the lecture). If the character is a warrior their health is reduced by 20, but (else) a scout will only have their health reduced by 10 as they dodge away from the fire quickly. Use appropriate messages to describe these events.\n",
    "\n",
    "- Optional: Actually, other reasonable answers to the riddle are \"a bus\", \"a train\" etc. Extend your 'if-else' statement to include elif statements (in a similar way to the Decades exercise above) so there are three alternatives: the \"correct\" answer (a cold), these alternative answers (a bus, a train), and the wrong answer. When the user types an alternative answer, the booming voice should say something sulky (\"There are no such machines in this world...\") but let the character pass unharmed anyway.\n"
   ]
  },
  {
   "cell_type": "code",
   "execution_count": null,
   "metadata": {},
   "outputs": [],
   "source": []
  }
 ],
 "metadata": {
  "language_info": {
   "name": "python"
  }
 },
 "nbformat": 4,
 "nbformat_minor": 2
}
